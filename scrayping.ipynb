{
 "cells": [
  {
   "cell_type": "code",
   "execution_count": 54,
   "metadata": {},
   "outputs": [],
   "source": [
    "import numpy as np\n",
    "import csv\n",
    "import pandas as pd\n",
    "import requests\n",
    "from bs4 import BeautifulSoup\n",
    "import re\n",
    "def search_string(formar_tag, latter_tag, text):\n",
    "    \"\"\"\n",
    "    Find a keyword between specific tags or words.\n",
    "    \"\"\"\n",
    "    lst = re.findall(r'{}.*?{}'.format(formar_tag, latter_tag), text, re.DOTALL)\n",
    "    lst = [i.replace(formar_tag,'').replace(latter_tag,'')for i in lst]\n",
    "    return lst\n",
    "\n",
    "def remove_unnecessary_words(unnecessary_list,string):\n",
    "    for word in unnecessary_list:\n",
    "        string = re.sub(word,'',string)\n",
    "    return string\n",
    "\n",
    "def remove_tags_from_list(lst):\n",
    "    lst = [remove_unnecessary_words(['<[^>]*>','\\n'],str(i)) for i in lst]\n",
    "    return lst\n",
    "\n",
    "class Wantedly:\n",
    "    def __init__(self,url):\n",
    "        self.url= url\n",
    "        self.requests = requests.get(self.url)\n",
    "        self.html         = self.requests.text\n",
    "        self.soup              = BeautifulSoup(self.html,'html.parser')\n",
    "\n",
    "    def _get_project_source(self):\n",
    "        self._project_source = self.soup.find_all('h1',{'class':'project-title'})\n",
    "\n",
    "    def get_project_names(self):\n",
    "        self._get_project_source()\n",
    "        project_names = remove_tags_from_list(self._project_source)\n",
    "        return project_names\n",
    "\n",
    "    def get_project_urls(self,only_url=False):\n",
    "        if only_url:\n",
    "            self._get_project_source()\n",
    "        domain = 'https://www.wantedly.com/'\n",
    "        project_num_list = [search_string('<a href=\"/','filter', str(string))[0] for string in self._project_source]\n",
    "        self.url_list = [domain + str(num) for num in project_num_list]\n",
    "        return self.url_list\n",
    "\n",
    "    def get_companies(self):\n",
    "        companies =  self.soup.find_all('a',{'class':'wt-company'})\n",
    "        companies = [link for link in companies if 'img' not in str(link)]\n",
    "        companies = remove_tags_from_list(companies)\n",
    "        return companies"
   ]
  },
  {
   "cell_type": "code",
   "execution_count": 55,
   "metadata": {},
   "outputs": [],
   "source": [
    "url='https://www.wantedly.com/projects?type=recent&page=1&occupation_types%5B%5D=writer&hiring_types%5B%5D=contract'"
   ]
  },
  {
   "cell_type": "code",
   "execution_count": 56,
   "metadata": {},
   "outputs": [
    {
     "name": "stdout",
     "output_type": "stream",
     "text": [
      "https://www.wantedly.com/projects?type=recent&page=1&occupation_types%5B%5D=writer&hiring_types%5B%5D=contract\n"
     ]
    }
   ],
   "source": [
    "print (url)"
   ]
  },
  {
   "cell_type": "code",
   "execution_count": 57,
   "metadata": {},
   "outputs": [],
   "source": [
    "wantedly = Wantedly(url)"
   ]
  },
  {
   "cell_type": "code",
   "execution_count": 58,
   "metadata": {},
   "outputs": [
    {
     "data": {
      "text/plain": [
       "['https://www.wantedly.com/projects/247708?',\n",
       " 'https://www.wantedly.com/projects/247288?',\n",
       " 'https://www.wantedly.com/projects/247059?',\n",
       " 'https://www.wantedly.com/projects/247123?',\n",
       " 'https://www.wantedly.com/projects/219832?',\n",
       " 'https://www.wantedly.com/projects/246912?',\n",
       " 'https://www.wantedly.com/projects/246781?',\n",
       " 'https://www.wantedly.com/projects/246743?',\n",
       " 'https://www.wantedly.com/projects/245703?',\n",
       " 'https://www.wantedly.com/projects/246080?']"
      ]
     },
     "execution_count": 58,
     "metadata": {},
     "output_type": "execute_result"
    }
   ],
   "source": [
    "wantedly.get_project_urls(only_url=True)"
   ]
  },
  {
   "cell_type": "code",
   "execution_count": 59,
   "metadata": {},
   "outputs": [
    {
     "data": {
      "text/plain": [
       "['リモート可！急成長中！教育×テクノロジーメディア編集者WANTED！',\n",
       " '23歳社長直下で稼ぎまくれる！デジタル広告に革命を起こすライター募集',\n",
       " '趣味のネットサーフィンがライティングに生きる！？経歴不問のインターン募集！',\n",
       " 'どこでも通用する執筆・取材力が身につく！学生マネーライターを募集！',\n",
       " '挑戦したい人募集！急成長中メディアの編集・戦略的ライターを WANTED！',\n",
       " '書くことが好き！マーケティングに興味のある好奇心旺盛なライター募集！',\n",
       " '世界中のクリエイターに支持されるメディアを一緒に立ち上げる編集長候補を募集',\n",
       " '反響営業で成り立つマーケティング力を持つ企業で編集兼ライター募集！',\n",
       " 'あなたが大好きなセブ島を、思いのままに文章に起こすライターを募集！',\n",
       " '働くかっこいいを世界に伝える最強SEOライター募集']"
      ]
     },
     "execution_count": 59,
     "metadata": {},
     "output_type": "execute_result"
    }
   ],
   "source": [
    "wantedly.get_project_names()"
   ]
  },
  {
   "cell_type": "code",
   "execution_count": 60,
   "metadata": {},
   "outputs": [
    {
     "data": {
      "text/plain": [
       "['キラメックス株式会社',\n",
       " '株式会社アキンドテック',\n",
       " '株式会社終活ねっと',\n",
       " '株式会社Money&amp;You',\n",
       " '株式会社ジーニング',\n",
       " '株式会社フィードフォース',\n",
       " 'ThousandJapan株式会社',\n",
       " '株式会社リザーブリンク',\n",
       " 'TNKトラベルJAPAN',\n",
       " 'インビジョン株式会社']"
      ]
     },
     "execution_count": 60,
     "metadata": {},
     "output_type": "execute_result"
    }
   ],
   "source": [
    "wantedly.get_companies()"
   ]
  },
  {
   "cell_type": "code",
   "execution_count": 61,
   "metadata": {},
   "outputs": [],
   "source": [
    "import time\n",
    "\n",
    "def apply_page_num(num,url):\n",
    "    url = url.replace('page=1','page='+str(num+1))\n",
    "    return url\n",
    "\n",
    "def create_data_list(url,num_range):\n",
    "    url_list = [apply_page_num(num, url) for num in range(num_range[0],num_range[1])]\n",
    "    company_list          = []\n",
    "    project_name_list     = []\n",
    "    project_url_list      = [] \n",
    "    for url in url_list:\n",
    "        instance = Wantedly(url)\n",
    "        company_list = company_list + instance.get_companies()\n",
    "        project_name_list    = project_name_list + instance.get_project_names()\n",
    "        project_url_list     = project_url_list  + instance.get_project_urls()\n",
    "\n",
    "    dictionary = {'company':company_list, 'project_name':project_name_list, 'project_url':project_url_list}\n",
    "    df = pd.DataFrame.from_dict(dictionary)\n",
    "    time.sleep(3)\n",
    "    return df"
   ]
  },
  {
   "cell_type": "code",
   "execution_count": 62,
   "metadata": {},
   "outputs": [],
   "source": [
    "df = create_data_list(url,(0,2))"
   ]
  },
  {
   "cell_type": "code",
   "execution_count": 78,
   "metadata": {},
   "outputs": [
    {
     "data": {
      "text/html": [
       "<div>\n",
       "<table border=\"1\" class=\"dataframe\">\n",
       "  <thead>\n",
       "    <tr style=\"text-align: right;\">\n",
       "      <th></th>\n",
       "      <th>company</th>\n",
       "      <th>project_name</th>\n",
       "      <th>project_url</th>\n",
       "    </tr>\n",
       "  </thead>\n",
       "  <tbody>\n",
       "    <tr>\n",
       "      <th>0</th>\n",
       "      <td>キラメックス株式会社</td>\n",
       "      <td>リモート可！急成長中！教育×テクノロジーメディア編集者WANTED！</td>\n",
       "      <td>https://www.wantedly.com/projects/247708?</td>\n",
       "    </tr>\n",
       "    <tr>\n",
       "      <th>1</th>\n",
       "      <td>株式会社アキンドテック</td>\n",
       "      <td>23歳社長直下で稼ぎまくれる！デジタル広告に革命を起こすライター募集</td>\n",
       "      <td>https://www.wantedly.com/projects/247288?</td>\n",
       "    </tr>\n",
       "    <tr>\n",
       "      <th>2</th>\n",
       "      <td>株式会社終活ねっと</td>\n",
       "      <td>趣味のネットサーフィンがライティングに生きる！？経歴不問のインターン募集！</td>\n",
       "      <td>https://www.wantedly.com/projects/247059?</td>\n",
       "    </tr>\n",
       "    <tr>\n",
       "      <th>3</th>\n",
       "      <td>株式会社Money&amp;amp;You</td>\n",
       "      <td>どこでも通用する執筆・取材力が身につく！学生マネーライターを募集！</td>\n",
       "      <td>https://www.wantedly.com/projects/247123?</td>\n",
       "    </tr>\n",
       "    <tr>\n",
       "      <th>4</th>\n",
       "      <td>株式会社ジーニング</td>\n",
       "      <td>挑戦したい人募集！急成長中メディアの編集・戦略的ライターを WANTED！</td>\n",
       "      <td>https://www.wantedly.com/projects/219832?</td>\n",
       "    </tr>\n",
       "  </tbody>\n",
       "</table>\n",
       "</div>"
      ],
      "text/plain": [
       "             company                           project_name  \\\n",
       "0         キラメックス株式会社     リモート可！急成長中！教育×テクノロジーメディア編集者WANTED！   \n",
       "1        株式会社アキンドテック     23歳社長直下で稼ぎまくれる！デジタル広告に革命を起こすライター募集   \n",
       "2          株式会社終活ねっと  趣味のネットサーフィンがライティングに生きる！？経歴不問のインターン募集！   \n",
       "3  株式会社Money&amp;You      どこでも通用する執筆・取材力が身につく！学生マネーライターを募集！   \n",
       "4          株式会社ジーニング  挑戦したい人募集！急成長中メディアの編集・戦略的ライターを WANTED！   \n",
       "\n",
       "                                 project_url  \n",
       "0  https://www.wantedly.com/projects/247708?  \n",
       "1  https://www.wantedly.com/projects/247288?  \n",
       "2  https://www.wantedly.com/projects/247059?  \n",
       "3  https://www.wantedly.com/projects/247123?  \n",
       "4  https://www.wantedly.com/projects/219832?  "
      ]
     },
     "execution_count": 78,
     "metadata": {},
     "output_type": "execute_result"
    }
   ],
   "source": [
    "df.head()"
   ]
  },
  {
   "cell_type": "code",
   "execution_count": 73,
   "metadata": {},
   "outputs": [
    {
     "name": "stdout",
     "output_type": "stream",
     "text": [
      "              company                           project_name  \\\n",
      "0          キラメックス株式会社     リモート可！急成長中！教育×テクノロジーメディア編集者WANTED！   \n",
      "1         株式会社アキンドテック     23歳社長直下で稼ぎまくれる！デジタル広告に革命を起こすライター募集   \n",
      "2           株式会社終活ねっと  趣味のネットサーフィンがライティングに生きる！？経歴不問のインターン募集！   \n",
      "3   株式会社Money&amp;You      どこでも通用する執筆・取材力が身につく！学生マネーライターを募集！   \n",
      "4           株式会社ジーニング  挑戦したい人募集！急成長中メディアの編集・戦略的ライターを WANTED！   \n",
      "5        株式会社フィードフォース     書くことが好き！マーケティングに興味のある好奇心旺盛なライター募集！   \n",
      "6   ThousandJapan株式会社  世界中のクリエイターに支持されるメディアを一緒に立ち上げる編集長候補を募集   \n",
      "7         株式会社リザーブリンク      反響営業で成り立つマーケティング力を持つ企業で編集兼ライター募集！   \n",
      "8        TNKトラベルJAPAN      あなたが大好きなセブ島を、思いのままに文章に起こすライターを募集！   \n",
      "9          インビジョン株式会社              働くかっこいいを世界に伝える最強SEOライター募集   \n",
      "10         STUDIO株式会社       スタートアップSTUDIOを拡大させるインターンライター大募集！   \n",
      "11          株式会社マイベスト  台湾華語ライター大募集！急成長メディアの台湾事業を一緒に盛り上げましょう！   \n",
      "12           株式会社ukka    沖縄・離島から生産者のこだわりを全国に届ける産地ライター/FRを募集！   \n",
      "13      株式会社TABI LABO       TABI LABOでWORLD TOPICSの外部ライター募集！   \n",
      "14            株式会社DAT    未来に繋がるメディアを、新たな価値創造を！台湾向けメディアライター募集   \n",
      "15       アグリコネクト株式会社    PV急上昇中！暮らしを彩る、農＆ガーデニング情報メディアのライター募集！   \n",
      "16         株式会社エージェント               副業総合情報メディアBitWorkライター募集！   \n",
      "17          スローガン株式会社    FastGrow、大学生も歓迎！編集業を学べるメディア編集アシスタント   \n",
      "18        Worldgo株式会社    一緒にメディアを創っていきませんか？？一緒に人生を変える為の仲間募集！   \n",
      "19           株式会社Lime             フルリニューアルするダイエットメディアの編集者募集！   \n",
      "\n",
      "                                  project_url  \n",
      "0   https://www.wantedly.com/projects/247708?  \n",
      "1   https://www.wantedly.com/projects/247288?  \n",
      "2   https://www.wantedly.com/projects/247059?  \n",
      "3   https://www.wantedly.com/projects/247123?  \n",
      "4   https://www.wantedly.com/projects/219832?  \n",
      "5   https://www.wantedly.com/projects/246912?  \n",
      "6   https://www.wantedly.com/projects/246781?  \n",
      "7   https://www.wantedly.com/projects/246743?  \n",
      "8   https://www.wantedly.com/projects/245703?  \n",
      "9   https://www.wantedly.com/projects/246080?  \n",
      "10  https://www.wantedly.com/projects/246188?  \n",
      "11  https://www.wantedly.com/projects/245679?  \n",
      "12  https://www.wantedly.com/projects/239941?  \n",
      "13  https://www.wantedly.com/projects/244015?  \n",
      "14  https://www.wantedly.com/projects/244963?  \n",
      "15  https://www.wantedly.com/projects/244740?  \n",
      "16  https://www.wantedly.com/projects/244278?  \n",
      "17  https://www.wantedly.com/projects/244310?  \n",
      "18  https://www.wantedly.com/projects/244103?  \n",
      "19  https://www.wantedly.com/projects/244095?  \n"
     ]
    }
   ],
   "source": [
    "print(df)"
   ]
  },
  {
   "cell_type": "code",
   "execution_count": null,
   "metadata": {},
   "outputs": [],
   "source": []
  }
 ],
 "metadata": {
  "kernelspec": {
   "display_name": "Python 3",
   "language": "python",
   "name": "python3"
  },
  "language_info": {
   "codemirror_mode": {
    "name": "ipython",
    "version": 3
   },
   "file_extension": ".py",
   "mimetype": "text/x-python",
   "name": "python",
   "nbconvert_exporter": "python",
   "pygments_lexer": "ipython3",
   "version": "3.5.4"
  }
 },
 "nbformat": 4,
 "nbformat_minor": 2
}
